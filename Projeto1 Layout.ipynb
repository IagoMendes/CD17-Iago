{
 "cells": [
  {
   "cell_type": "markdown",
   "metadata": {},
   "source": [
    "___\n",
    "# Ciência dos Dados - PROJETO 1"
   ]
  },
  {
   "cell_type": "markdown",
   "metadata": {},
   "source": [
    "Iago Rainha Mendes\n",
    "___"
   ]
  },
  {
   "cell_type": "markdown",
   "metadata": {},
   "source": [
    "## TÍTULO DO SEU PROJETO"
   ]
  },
  {
   "cell_type": "markdown",
   "metadata": {},
   "source": [
    "___\n",
    "## Introdução\n",
    "\n",
    "Meu estudo busca encontrar a quantidade de pessoas com \"acesso total\" a informação (que eu defini como acesso a internet e televisão, de diversas maneiras diferentes)."
   ]
  },
  {
   "cell_type": "markdown",
   "metadata": {},
   "source": [
    "___\n",
    "## Análise e Resultados"
   ]
  },
  {
   "cell_type": "code",
   "execution_count": 5,
   "metadata": {
    "collapsed": true
   },
   "outputs": [],
   "source": [
    "%matplotlib inline\n",
    "import pandas as pd\n",
    "import matplotlib.pyplot as plt\n",
    "import numpy as np\n",
    "import os"
   ]
  },
  {
   "cell_type": "code",
   "execution_count": 6,
   "metadata": {},
   "outputs": [
    {
     "name": "stdout",
     "output_type": "stream",
     "text": [
      "Esperamos trabalhar no diretório\n",
      "C:\\Users\\Dell\\Desktop\\Insper\\2017.2\\Ciência dos Dados\\CD17-Iago\n"
     ]
    }
   ],
   "source": [
    "print('Esperamos trabalhar no diretório')\n",
    "print(os.getcwd())"
   ]
  },
  {
   "cell_type": "code",
   "execution_count": 15,
   "metadata": {},
   "outputs": [
    {
     "name": "stdout",
     "output_type": "stream",
     "text": [
      "9.412388754641363\n"
     ]
    }
   ],
   "source": [
    "#DADOS DE 2013\n",
    "dados_2013 = pd.read_csv('DOM2013.csv',sep=',')\n",
    "dados_2013 = pd.DataFrame(dados_2013)\n",
    "dados_2013_35 = dados_2013.loc[dados_2013.UF == 35]\n",
    "dados_2013 = dados_2013.loc[:,[\"UF\",\"V0220\", \"V02272\",\"V02322\",\"V02324\",\"V02424\",\"V02426\"] ]\n",
    "dados_2013 = dados_2013[pd.notnull(dados_2013.V0220) &\\\n",
    "                        pd.notnull(dados_2013.V02272) &\\\n",
    "                        pd.notnull(dados_2013.V02322) &\\\n",
    "                        pd.notnull(dados_2013.V02324) &\\\n",
    "                        pd.notnull(dados_2013.V02424) &\\\n",
    "                        pd.notnull(dados_2013.V02426)]\n",
    "\n",
    "\n",
    "\n",
    "\n",
    "dados_2013 = dados_2013.loc[(dados_2013.UF == 35) &\\\n",
    "                            (dados_2013.V0220 == 2) &\\\n",
    "                            (dados_2013.V02272 == 1) &\\\n",
    "                            (dados_2013.V02322 == 2) &\\\n",
    "                            (dados_2013.V02324 == 2) &\\\n",
    "                            (dados_2013.V02424 == 2) &\\\n",
    "                            (dados_2013.V02426 == 2)]\n",
    "\n",
    "dados_2013.UF = dados_2013.UF.astype('category')\n",
    "dados_2013.UF.cat.categories = {\"São Paulo\"}\n",
    "dados_2013.V0220  = dados_2013.V0220.astype('category')\n",
    "dados_2013.V0220.cat.categories = {\"Sim\"}\n",
    "dados_2013.V02272 = dados_2013.V02272.astype('category')\n",
    "dados_2013.V02272.cat.categories = {\"Sim\"}\n",
    "dados_2013.V02322 = dados_2013.V02322.astype('category')\n",
    "dados_2013.V02322.cat.categories = {\"Sim\"}\n",
    "dados_2013.V02324 = dados_2013.V02324.astype('category')\n",
    "dados_2013.V02324.cat.categories = {\"Sim\"}\n",
    "dados_2013.V02424 = dados_2013.V02424.astype('category')\n",
    "dados_2013.V02424.cat.categories = {\"Sim\"}\n",
    "dados_2013.V02426 = dados_2013.V02426.astype('category')\n",
    "dados_2013.V02426.cat.categories = {\"Sim\"}\n",
    "\n",
    "\n",
    "dados_2013 = dados_2013.rename(columns={\"UF\":\"Estado\",\\\n",
    "                                        \"V0220\":\"Celular\",\\\n",
    "                                        \"V02272\":\"Televisão por assinatura\",\\\n",
    "                                        \"V02322\":\"Acesso a internet no próprio domicílio\",\\\n",
    "                                        \"V02324\":\"Acesso a internet pelo celular\",\\\n",
    "                                        \"V02424\":\"Acesso a internet por 3g ou 4g\",\\\n",
    "                                        \"V02426\":\"Acesso por banda larga\"})  \n",
    "\n",
    "\n",
    "\n",
    "dados_2013.to_csv(\"dados_2013menor.csv\")\n",
    "#dados_2013_35 = 16967\n",
    "#dados_2013 \n",
    "porcentagem = 1597/16967\n",
    "print(porcentagem*100)"
   ]
  },
  {
   "cell_type": "code",
   "execution_count": 16,
   "metadata": {},
   "outputs": [
    {
     "name": "stdout",
     "output_type": "stream",
     "text": [
      "16.01182197496523\n"
     ]
    }
   ],
   "source": [
    "#DADOS DE 2014\n",
    "dados_2014 = pd.read_csv('DOM2014.csv',sep=',')\n",
    "dados_2014 = pd.DataFrame(dados_2014)\n",
    "dados_2014_35 = dados_2014.loc[dados_2014.UF == 35]\n",
    "dados_2014 = dados_2014.loc[:,[\"UF\",\"V0220\", \"V02272\",\"V02322\",\"V02324\",\"V02424\",\"V02426\"]]\n",
    "dados_2014 = dados_2014.loc[pd.notnull(dados_2014.V0220) &\\\n",
    "                            pd.notnull(dados_2014.V02272) &\\\n",
    "                            pd.notnull(dados_2014.V02322) &\\\n",
    "                            pd.notnull(dados_2014.V02324) &\\\n",
    "                            pd.notnull(dados_2014.V02424) &\\\n",
    "                            pd.notnull(dados_2014.V02426)]\n",
    "\n",
    "dados_2014 = dados_2014.loc[(dados_2014.UF == 35) &\\\n",
    "                            (dados_2014.V0220 == 2) &\\\n",
    "                            (dados_2014.V02272 == 1) &\\\n",
    "                            (dados_2014.V02322 == 2) &\\\n",
    "                            (dados_2014.V02324 == 2) &\\\n",
    "                            (dados_2014.V02424 == 2) &\\\n",
    "                            (dados_2014.V02426 == 2)]\n",
    "\n",
    "dados_2014.UF = dados_2014.UF.astype('category')\n",
    "dados_2014.UF.cat.categories = {\"São Paulo\"}\n",
    "dados_2014.V0220  = dados_2014.V0220.astype('category')\n",
    "dados_2014.V0220.cat.categories = {\"Sim\"}\n",
    "dados_2014.V02272 = dados_2014.V02272.astype('category')\n",
    "dados_2014.V02272.cat.categories = {\"Sim\"}\n",
    "dados_2014.V02322 = dados_2014.V02322.astype('category')\n",
    "dados_2014.V02322.cat.categories = {\"Sim\"}\n",
    "dados_2014.V02324 = dados_2014.V02324.astype('category')\n",
    "dados_2014.V02324.cat.categories = {\"Sim\"}\n",
    "dados_2014.V02424 = dados_2014.V02424.astype('category')\n",
    "dados_2014.V02424.cat.categories = {\"Sim\"}\n",
    "dados_2014.V02426 = dados_2014.V02426.astype('category')\n",
    "dados_2014.V02426.cat.categories = {\"Sim\"}\n",
    "\n",
    "\n",
    "dados_2014 = dados_2014.rename(columns={\"UF\":\"Estado\",\\\n",
    "                                        \"V0220\":\"Celular\",\\\n",
    "                                        \"V02272\":\"Televisão por assinatura\",\\\n",
    "                                        \"V02322\":\"Acesso a internet no próprio domicílio\",\\\n",
    "                                        \"V02324\":\"Acesso a internet pelo celular\",\\\n",
    "                                        \"V02424\":\"Acesso a internet por 3g ou 4g\",\\\n",
    "                                        \"V02426\":\"Acesso por banda larga\"})  \n",
    "\n",
    "                               \n",
    "dados_2014.to_csv(\"dados_2014menor.csv\")\n",
    "#dados_2014\n",
    "#dados_2014_35 = 17256\n",
    "porcentagem = 2763/17256\n",
    "print(porcentagem*100)"
   ]
  },
  {
   "cell_type": "code",
   "execution_count": 17,
   "metadata": {},
   "outputs": [
    {
     "name": "stdout",
     "output_type": "stream",
     "text": [
      "18.529871031172288\n"
     ]
    }
   ],
   "source": [
    "#DADOS DE 2015\n",
    "dados_2015 = pd.read_csv('DOM2015.csv',sep=',')\n",
    "dados_2015 = pd.DataFrame(dados_2015)\n",
    "dados_2015_35 = dados_2015.loc[dados_2015.UF == 35]\n",
    "dados_2015 = dados_2015.loc[:,[\"UF\",\"V0220\", \"V02272\",\"V02322\",\"V02324\",\"V02424\",\"V02426\"]]\n",
    "dados_2015 = dados_2015[pd.notnull(dados_2015.V0220) &\\\n",
    "                        pd.notnull(dados_2015.V02272) &\\\n",
    "                        pd.notnull(dados_2015.V02322) &\\\n",
    "                        pd.notnull(dados_2015.V02324) &\\\n",
    "                        pd.notnull(dados_2015.V02424) &\\\n",
    "                        pd.notnull(dados_2015.V02426)]\n",
    "\n",
    "dados_2015 = dados_2015.loc[(dados_2015.UF == 35) &\\\n",
    "                            (dados_2015.V0220 == 2) &\\\n",
    "                            (dados_2015.V02272 == 1) &\\\n",
    "                            (dados_2015.V02322 == 2) &\\\n",
    "                            (dados_2015.V02324 == 2) &\\\n",
    "                            (dados_2015.V02424 == 2) &\\\n",
    "                            (dados_2015.V02426 == 2)]\n",
    "\n",
    "dados_2015.UF = dados_2015.UF.astype('category')\n",
    "dados_2015.UF.cat.categories = {\"São Paulo\"}\n",
    "dados_2015.V0220  = dados_2015.V0220.astype('category')\n",
    "dados_2015.V0220.cat.categories = {\"Sim\"}\n",
    "dados_2015.V02272 = dados_2015.V02272.astype('category')\n",
    "dados_2015.V02272.cat.categories = {\"Sim\"}\n",
    "dados_2015.V02322 = dados_2015.V02322.astype('category')\n",
    "dados_2015.V02322.cat.categories = {\"Sim\"}\n",
    "dados_2015.V02324 = dados_2015.V02324.astype('category')\n",
    "dados_2015.V02324.cat.categories = {\"Sim\"}\n",
    "dados_2015.V02424 = dados_2015.V02424.astype('category')\n",
    "dados_2015.V02424.cat.categories = {\"Sim\"}\n",
    "dados_2015.V02426 = dados_2015.V02426.astype('category')\n",
    "dados_2015.V02426.cat.categories = {\"Sim\"}\n",
    "\n",
    "\n",
    "dados_2015 = dados_2015.rename(columns={\"UF\":\"Estado\",\\\n",
    "                                        \"V0220\":\"Celular\",\\\n",
    "                                        \"V02272\":\"Televisão por assinatura\",\\\n",
    "                                        \"V02322\":\"Acesso a internet no próprio domicílio\",\\\n",
    "                                        \"V02324\":\"Acesso a internet pelo celular\",\\\n",
    "                                        \"V02424\":\"Acesso a internet por 3g ou 4g\",\\\n",
    "                                        \"V02426\":\"Acesso por banda larga\"})  \n",
    "\n",
    "\n",
    "dados_2015.to_csv(\"dados_2015menor.csv\")\n",
    "#dados_2015 \n",
    "#dados_2015_35 = 17291\n",
    "porcentagem = 3204/17291\n",
    "print(porcentagem*100)"
   ]
  },
  {
   "cell_type": "markdown",
   "metadata": {},
   "source": [
    "___\n",
    "## Conclusão "
   ]
  },
  {
   "cell_type": "markdown",
   "metadata": {
    "collapsed": true
   },
   "source": [
    "Descreva aqui suas conclusões!"
   ]
  },
  {
   "cell_type": "code",
   "execution_count": null,
   "metadata": {
    "collapsed": true
   },
   "outputs": [],
   "source": []
  }
 ],
 "metadata": {
  "anaconda-cloud": {},
  "kernelspec": {
   "display_name": "Python 3",
   "language": "python",
   "name": "python3"
  },
  "language_info": {
   "codemirror_mode": {
    "name": "ipython",
    "version": 3
   },
   "file_extension": ".py",
   "mimetype": "text/x-python",
   "name": "python",
   "nbconvert_exporter": "python",
   "pygments_lexer": "ipython3",
   "version": "3.6.2"
  }
 },
 "nbformat": 4,
 "nbformat_minor": 1
}
